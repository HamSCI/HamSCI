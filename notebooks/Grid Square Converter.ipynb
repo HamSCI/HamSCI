{
 "cells": [
  {
   "cell_type": "markdown",
   "metadata": {},
   "source": [
    "## This notebook implements two-way grid square to lat/lon conversion.\n",
    "\n",
    "Based on description at https://en.wikipedia.org/wiki/Maidenhead_Locator_System"
   ]
  },
  {
   "cell_type": "code",
   "execution_count": 1,
   "metadata": {
    "collapsed": true
   },
   "outputs": [],
   "source": [
    "import string\n",
    "import numpy as np"
   ]
  },
  {
   "cell_type": "code",
   "execution_count": 2,
   "metadata": {
    "collapsed": true
   },
   "outputs": [],
   "source": [
    "def latlon2gridsquare(lat,lon,precision=6):\n",
    "    \"\"\"\n",
    "    Calculates gridsquares from lat,lon pairs.\n",
    "    This routine is vectorized.\n",
    "    \n",
    "    Precision indicates the desired number of Grid Square characters,\n",
    "    and must be an even number. 4 is often used in HF communications,\n",
    "    and 6 is standard for VHF/UHF. Any two locations within the same \n",
    "    6-character grid square are no more than 12 km apart.\n",
    "    \"\"\"\n",
    "    #### Pre-process\n",
    "    lats = np.array(lat)\n",
    "    lons = np.array(lon)\n",
    "    \n",
    "    # Make sure all input lons are between -180 and +180 deg.\n",
    "    tf = lons > 180.\n",
    "    lons[tf] -= 360.\n",
    "\n",
    "    # Define zLats that start at 0 at the south pole\n",
    "    # Define zLons that start at 0 at the antimeridian of Greenwich\n",
    "    zLats = lats +  90.\n",
    "    zLons = lons + 180.\n",
    "\n",
    "    # Create string lookup lists for each of the codes.\n",
    "    alpha_upper = np.char.array([x for x in string.ascii_uppercase])\n",
    "    alpha_lower = np.char.array([x for x in string.ascii_lowercase])\n",
    "    nr_str      = np.char.array(['{!s}'.format(x) for x in range(10)])\n",
    "\n",
    "    # Calculate the field (a.k.a. first 2 letters)\n",
    "    base = 18.\n",
    "    container_size_lat = 180.\n",
    "    container_size_lon = 360.\n",
    "    subdivide_size_lat = container_size_lat / base\n",
    "    subdivide_size_lon = container_size_lon / base\n",
    "\n",
    "    zLats_rem        = zLats % container_size_lat\n",
    "    zLons_rem        = zLons % container_size_lon\n",
    "\n",
    "    lat_code_inx     = np.array(np.floor(zLats_rem / subdivide_size_lat),dtype=np.int)\n",
    "    lon_code_inx     = np.array(np.floor(zLons_rem / subdivide_size_lon),dtype=np.int)\n",
    "\n",
    "    lon_code  = alpha_upper[lon_code_inx]\n",
    "    lat_code  = alpha_upper[lat_code_inx]\n",
    "    this_code = lon_code + lat_code\n",
    "\n",
    "    grid_square = this_code\n",
    "    curr_prec   = 2\n",
    "\n",
    "    # Square, subsquare, extended square, and beyond...\n",
    "    while curr_prec < precision:\n",
    "        # Determine if we use base 10 numerics for base 24 alpha\n",
    "        # for this portion of the code.\n",
    "        alpha        = not bool((curr_prec/2) % 2)\n",
    "        if alpha:\n",
    "            base     = 24\n",
    "            str_code = alpha_lower\n",
    "        else:\n",
    "            base     = 10.\n",
    "            str_code = nr_str\n",
    "\n",
    "        container_size_lat     = subdivide_size_lat\n",
    "        container_size_lon     = subdivide_size_lon\n",
    "        subdivide_size_lat     = container_size_lat / base\n",
    "        subdivide_size_lon     = container_size_lon / base\n",
    "\n",
    "        zLats_rem        = zLats_rem % container_size_lat\n",
    "        zLons_rem        = zLons_rem % container_size_lon\n",
    "\n",
    "        lat_code_inx     = np.array(np.floor(zLats_rem / subdivide_size_lat),dtype=np.int)\n",
    "        lon_code_inx     = np.array(np.floor(zLons_rem / subdivide_size_lon),dtype=np.int)\n",
    "\n",
    "        lon_code    = str_code[lon_code_inx]\n",
    "        lat_code    = str_code[lat_code_inx]\n",
    "        this_code   = lon_code + lat_code\n",
    "        grid_square = grid_square + this_code\n",
    "        curr_prec  += 2\n",
    "        \n",
    "    return grid_square"
   ]
  },
  {
   "cell_type": "code",
   "execution_count": 3,
   "metadata": {
    "collapsed": false
   },
   "outputs": [],
   "source": [
    "# Some sample grid square - lat/lon pairs.\n",
    "test_dct          = {}\n",
    "\n",
    "tmp               = {}\n",
    "test_dct['aa7bq'] = tmp\n",
    "tmp['lat']        =   33.698256\n",
    "tmp['lon']        = -111.891495\n",
    "tmp['gs']         = 'DM43bq'\n",
    "\n",
    "tmp               = {}\n",
    "test_dct['w2naf'] = tmp\n",
    "tmp['lat']        =  40.811667\n",
    "tmp['lon']        = -74.210000\n",
    "tmp['gs']         = 'FN20vt'\n",
    "\n",
    "tmp               = {}\n",
    "test_dct['k2mff'] = tmp\n",
    "tmp['lat']        =  40.7429\n",
    "tmp['lon']        = -74.1770\n",
    "tmp['gs']         = 'FN20vr'\n",
    "\n",
    "# Put everything into numpy arrays to test multiple conversions.\n",
    "lats, lons, gss = [], [], []\n",
    "for key,item in test_dct.iteritems():\n",
    "    lats.append(item['lat'])\n",
    "    lons.append(item['lon'])\n",
    "    gss.append(item['gs'])"
   ]
  },
  {
   "cell_type": "code",
   "execution_count": 4,
   "metadata": {
    "collapsed": false
   },
   "outputs": [
    {
     "name": "stdout",
     "output_type": "stream",
     "text": [
      "Grid Square:  FN20vt\n",
      "Grid Square:  ['FN20vt' 'FN20vr' 'DM43bq']\n"
     ]
    }
   ],
   "source": [
    "# Test a single location - W2NAF (40.811667, -74.210000, FN20vt)\n",
    "grid_square = latlon2gridsquare(40.811667, -74.210000)\n",
    "print 'Grid Square: ', grid_square\n",
    "\n",
    "# Test multiple locations\n",
    "grid_square = latlon2gridsquare(lats,lons)\n",
    "print 'Grid Square: ', grid_square"
   ]
  },
  {
   "cell_type": "code",
   "execution_count": null,
   "metadata": {
    "collapsed": true
   },
   "outputs": [],
   "source": []
  }
 ],
 "metadata": {
  "kernelspec": {
   "display_name": "Python 2",
   "language": "python",
   "name": "python2"
  },
  "language_info": {
   "codemirror_mode": {
    "name": "ipython",
    "version": 2
   },
   "file_extension": ".py",
   "mimetype": "text/x-python",
   "name": "python",
   "nbconvert_exporter": "python",
   "pygments_lexer": "ipython2",
   "version": "2.7.12"
  }
 },
 "nbformat": 4,
 "nbformat_minor": 0
}

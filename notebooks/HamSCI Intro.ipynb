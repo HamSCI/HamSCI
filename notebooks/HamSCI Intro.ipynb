{
 "cells": [
  {
   "cell_type": "code",
   "execution_count": 5,
   "metadata": {
    "collapsed": false
   },
   "outputs": [
    {
     "name": "stdout",
     "output_type": "stream",
     "text": [
      "Populating the interactive namespace from numpy and matplotlib\n"
     ]
    }
   ],
   "source": [
    "%pylab inline\n",
    "import matplotlib\n",
    "from matplotlib.colors import LinearSegmentedColormap\n",
    "\n",
    "from hamsci import rbn_lib\n",
    "import datetime\n",
    "\n",
    "def to_cmap(my_cdict,name='CustomCMAP',vmin=0.,vmax=30.):\n",
    "    norm = matplotlib.colors.Normalize(vmin=vmin,vmax=vmax)\n",
    "    \n",
    "    red   = []\n",
    "    green = []\n",
    "    blue  = []\n",
    "    \n",
    "    keys = my_cdict.keys()\n",
    "    keys.sort()\n",
    "    \n",
    "    for x in keys:\n",
    "        r,g,b, = my_cdict[x]\n",
    "        x = norm(x)\n",
    "        r = r/255.\n",
    "        g = g/255.\n",
    "        b = b/255.\n",
    "        red.append(   (x, r, r))\n",
    "        green.append( (x, g, g))\n",
    "        blue.append(  (x, b, b))\n",
    "    cdict = {'red'   : tuple(red),\n",
    "             'green' : tuple(green),\n",
    "             'blue'  : tuple(blue)}\n",
    "    cmap  = LinearSegmentedColormap(name, cdict)\n",
    "    return cmap\n",
    "\n",
    "cc = matplotlib.colors.ColorConverter().to_rgb\n",
    "vmin, vmax = 0.,30.\n",
    "def cc255(color):\n",
    "    trip = np.array(cc(color))*255\n",
    "    trip = [int(x) for x in trip]\n",
    "    return tuple(trip)"
   ]
  },
  {
   "cell_type": "code",
   "execution_count": 6,
   "metadata": {
    "collapsed": false
   },
   "outputs": [
    {
     "name": "stdout",
     "output_type": "stream",
     "text": [
      "Starting RBN processing on <20151107.zip> at 2016-08-01 11:13:40.750519.\n"
     ]
    },
    {
     "ename": "Exception",
     "evalue": "Username/password incorrect ",
     "output_type": "error",
     "traceback": [
      "\u001b[0;31m---------------------------------------------------------------------------\u001b[0m",
      "\u001b[0;31mException\u001b[0m                                 Traceback (most recent call last)",
      "\u001b[0;32m<ipython-input-6-ef2a770bc49b>\u001b[0m in \u001b[0;36m<module>\u001b[0;34m()\u001b[0m\n\u001b[1;32m      3\u001b[0m \u001b[0mlatlon_bnds\u001b[0m \u001b[0;34m=\u001b[0m \u001b[0;34m{\u001b[0m\u001b[0;34m'llcrnrlat'\u001b[0m\u001b[0;34m:\u001b[0m\u001b[0;36m20.\u001b[0m\u001b[0;34m,\u001b[0m\u001b[0;34m'llcrnrlon'\u001b[0m\u001b[0;34m:\u001b[0m\u001b[0;34m-\u001b[0m\u001b[0;36m130.\u001b[0m\u001b[0;34m,\u001b[0m\u001b[0;34m'urcrnrlat'\u001b[0m\u001b[0;34m:\u001b[0m\u001b[0;36m55.\u001b[0m\u001b[0;34m,\u001b[0m\u001b[0;34m'urcrnrlon'\u001b[0m\u001b[0;34m:\u001b[0m\u001b[0;34m-\u001b[0m\u001b[0;36m65.\u001b[0m\u001b[0;34m}\u001b[0m\u001b[0;34m\u001b[0m\u001b[0m\n\u001b[1;32m      4\u001b[0m \u001b[0;34m\u001b[0m\u001b[0m\n\u001b[0;32m----> 5\u001b[0;31m \u001b[0mrbn_obj\u001b[0m  \u001b[0;34m=\u001b[0m \u001b[0mrbn_lib\u001b[0m\u001b[0;34m.\u001b[0m\u001b[0mRbnObject\u001b[0m\u001b[0;34m(\u001b[0m\u001b[0msTime\u001b[0m\u001b[0;34m,\u001b[0m\u001b[0meTime\u001b[0m\u001b[0;34m)\u001b[0m\u001b[0;34m\u001b[0m\u001b[0m\n\u001b[0m\u001b[1;32m      6\u001b[0m \u001b[0mrbn_obj\u001b[0m\u001b[0;34m.\u001b[0m\u001b[0mactive\u001b[0m\u001b[0;34m.\u001b[0m\u001b[0mlatlon_filt\u001b[0m\u001b[0;34m(\u001b[0m\u001b[0;34m**\u001b[0m\u001b[0mlatlon_bnds\u001b[0m\u001b[0;34m)\u001b[0m\u001b[0;34m\u001b[0m\u001b[0m\n\u001b[1;32m      7\u001b[0m \u001b[0mrbn_grid\u001b[0m \u001b[0;34m=\u001b[0m \u001b[0mrbn_obj\u001b[0m\u001b[0;34m.\u001b[0m\u001b[0mactive\u001b[0m\u001b[0;34m.\u001b[0m\u001b[0mcreate_geo_grid\u001b[0m\u001b[0;34m(\u001b[0m\u001b[0;34m)\u001b[0m\u001b[0;34m\u001b[0m\u001b[0m\n",
      "\u001b[0;32m/usr/local/lib/python2.7/dist-packages/hamsci/rbn_lib.pyc\u001b[0m in \u001b[0;36m__init__\u001b[0;34m(self, sTime, eTime, data_dir, qrz_call, qrz_passwd, comment, df)\u001b[0m\n\u001b[1;32m    257\u001b[0m         \u001b[0;32mif\u001b[0m \u001b[0mdf\u001b[0m \u001b[0;32mis\u001b[0m \u001b[0mNone\u001b[0m\u001b[0;34m:\u001b[0m\u001b[0;34m\u001b[0m\u001b[0m\n\u001b[1;32m    258\u001b[0m             df = read_rbn(sTime=sTime,eTime=eTime,data_dir=data_dir,\n\u001b[0;32m--> 259\u001b[0;31m                     qrz_call=qrz_call,qrz_passwd=qrz_passwd)\n\u001b[0m\u001b[1;32m    260\u001b[0m \u001b[0;34m\u001b[0m\u001b[0m\n\u001b[1;32m    261\u001b[0m         \u001b[0;31m#Make metadata block to hold information about the processing.\u001b[0m\u001b[0;34m\u001b[0m\u001b[0;34m\u001b[0m\u001b[0m\n",
      "\u001b[0;32m/usr/local/lib/python2.7/dist-packages/hamsci/rbn_lib.pyc\u001b[0m in \u001b[0;36mread_rbn\u001b[0;34m(sTime, eTime, data_dir, qrz_call, qrz_passwd)\u001b[0m\n\u001b[1;32m    137\u001b[0m                  \u001b[0;32mpass\u001b[0m\u001b[0;34m\u001b[0m\u001b[0m\n\u001b[1;32m    138\u001b[0m \u001b[0;34m\u001b[0m\u001b[0m\n\u001b[0;32m--> 139\u001b[0;31m              \u001b[0mqz\u001b[0m      \u001b[0;34m=\u001b[0m \u001b[0mqrz\u001b[0m\u001b[0;34m.\u001b[0m\u001b[0mSession\u001b[0m\u001b[0;34m(\u001b[0m\u001b[0mqrz_call\u001b[0m\u001b[0;34m,\u001b[0m\u001b[0mqrz_passwd\u001b[0m\u001b[0;34m)\u001b[0m\u001b[0;34m\u001b[0m\u001b[0m\n\u001b[0m\u001b[1;32m    140\u001b[0m              \u001b[0;31m# File downloading code from: http://stackoverflow.com/questions/22676/how-do-i-download-a-file-over-http-using-python\u001b[0m\u001b[0;34m\u001b[0m\u001b[0;34m\u001b[0m\u001b[0m\n\u001b[1;32m    141\u001b[0m              \u001b[0murl\u001b[0m \u001b[0;34m=\u001b[0m \u001b[0;34m'http://www.reversebeacon.net/raw_data/dl.php?f='\u001b[0m\u001b[0;34m+\u001b[0m\u001b[0mymd\u001b[0m\u001b[0;34m\u001b[0m\u001b[0m\n",
      "\u001b[0;32m/usr/local/lib/python2.7/dist-packages/hamtools/qrz.pyc\u001b[0m in \u001b[0;36m__init__\u001b[0;34m(self, user, passwd, cachepath)\u001b[0m\n\u001b[1;32m     68\u001b[0m         \u001b[0mdom\u001b[0m \u001b[0;34m=\u001b[0m \u001b[0mminidom\u001b[0m\u001b[0;34m.\u001b[0m\u001b[0mparseString\u001b[0m\u001b[0;34m(\u001b[0m\u001b[0mxml\u001b[0m\u001b[0;34m)\u001b[0m\u001b[0;34m\u001b[0m\u001b[0m\n\u001b[1;32m     69\u001b[0m         \u001b[0msession\u001b[0m \u001b[0;34m=\u001b[0m \u001b[0mdom\u001b[0m\u001b[0;34m.\u001b[0m\u001b[0mgetElementsByTagName\u001b[0m\u001b[0;34m(\u001b[0m\u001b[0;34m\"Session\"\u001b[0m\u001b[0;34m)\u001b[0m\u001b[0;34m[\u001b[0m\u001b[0;36m0\u001b[0m\u001b[0;34m]\u001b[0m\u001b[0;34m\u001b[0m\u001b[0m\n\u001b[0;32m---> 70\u001b[0;31m         \u001b[0mself\u001b[0m\u001b[0;34m.\u001b[0m\u001b[0mcheckErr\u001b[0m\u001b[0;34m(\u001b[0m\u001b[0msession\u001b[0m\u001b[0;34m)\u001b[0m\u001b[0;34m\u001b[0m\u001b[0m\n\u001b[0m\u001b[1;32m     71\u001b[0m         \u001b[0mself\u001b[0m\u001b[0;34m.\u001b[0m\u001b[0mkey\u001b[0m \u001b[0;34m=\u001b[0m \u001b[0msession\u001b[0m\u001b[0;34m.\u001b[0m\u001b[0mgetElementsByTagName\u001b[0m\u001b[0;34m(\u001b[0m\u001b[0;34m\"Key\"\u001b[0m\u001b[0;34m)\u001b[0m\u001b[0;34m[\u001b[0m\u001b[0;36m0\u001b[0m\u001b[0;34m]\u001b[0m\u001b[0;34m.\u001b[0m\u001b[0mfirstChild\u001b[0m\u001b[0;34m.\u001b[0m\u001b[0mdata\u001b[0m\u001b[0;34m\u001b[0m\u001b[0m\n\u001b[1;32m     72\u001b[0m         \u001b[0mself\u001b[0m\u001b[0;34m.\u001b[0m\u001b[0mdb\u001b[0m \u001b[0;34m=\u001b[0m \u001b[0msqlite3\u001b[0m\u001b[0;34m.\u001b[0m\u001b[0mconnect\u001b[0m\u001b[0;34m(\u001b[0m\u001b[0mcachepath\u001b[0m\u001b[0;34m)\u001b[0m\u001b[0;34m\u001b[0m\u001b[0m\n",
      "\u001b[0;32m/usr/local/lib/python2.7/dist-packages/hamtools/qrz.pyc\u001b[0m in \u001b[0;36mcheckErr\u001b[0;34m(self, session)\u001b[0m\n\u001b[1;32m    105\u001b[0m                 \u001b[0;32mraise\u001b[0m \u001b[0mNotFound\u001b[0m\u001b[0;34m(\u001b[0m\u001b[0merr\u001b[0m\u001b[0;34m)\u001b[0m\u001b[0;34m\u001b[0m\u001b[0m\n\u001b[1;32m    106\u001b[0m             \u001b[0;32melse\u001b[0m\u001b[0;34m:\u001b[0m\u001b[0;34m\u001b[0m\u001b[0m\n\u001b[0;32m--> 107\u001b[0;31m                 \u001b[0;32mraise\u001b[0m \u001b[0mException\u001b[0m\u001b[0;34m(\u001b[0m\u001b[0merr\u001b[0m\u001b[0;34m)\u001b[0m\u001b[0;34m\u001b[0m\u001b[0m\n\u001b[0m\u001b[1;32m    108\u001b[0m \u001b[0;34m\u001b[0m\u001b[0m\n\u001b[1;32m    109\u001b[0m         \u001b[0malert\u001b[0m \u001b[0;34m=\u001b[0m \u001b[0mNone\u001b[0m\u001b[0;34m\u001b[0m\u001b[0m\n",
      "\u001b[0;31mException\u001b[0m: Username/password incorrect "
     ]
    }
   ],
   "source": [
    "sTime = datetime.datetime(2015,11,7)\n",
    "eTime = datetime.datetime(2015,11,7,1)\n",
    "latlon_bnds = {'llcrnrlat':20.,'llcrnrlon':-130.,'urcrnrlat':55.,'urcrnrlon':-65.}\n",
    "\n",
    "rbn_obj  = rbn_lib.RbnObject(sTime,eTime)\n",
    "rbn_obj.active.latlon_filt(**latlon_bnds)\n",
    "rbn_grid = rbn_obj.active.create_geo_grid()\n",
    "rbn_grid.grid_mean()"
   ]
  },
  {
   "cell_type": "raw",
   "metadata": {
    "collapsed": false
   },
   "source": [
    "fc = {}\n",
    "fc[ 0.0] = (  0,   0,   0)\n",
    "fc[ 1.8] = (238, 130, 238) # violet\n",
    "fc[ 3.0] = (  0,   0, 255) # blue\n",
    "fc[ 8.0] = (  0, 255, 255) # aqua\n",
    "fc[10.0] = (  0, 128,   0) # green\n",
    "fc[16.0] = (255, 255,   0) # yellow\n",
    "fc[19.0] = (241,  92,   7) # orange\n",
    "fc[28.0] = (255,   0,   0) # red\n",
    "fc[30.0] = (255,   0,   0) # red\n",
    "cmap = to_cmap(fc,vmin=vmin,vmax=vmax)\n"
   ]
  },
  {
   "cell_type": "code",
   "execution_count": 7,
   "metadata": {
    "collapsed": false
   },
   "outputs": [
    {
     "data": {
      "text/plain": [
       "(255, 99, 71)"
      ]
     },
     "execution_count": 7,
     "metadata": {},
     "output_type": "execute_result"
    }
   ],
   "source": [
    "cc255('tomato')"
   ]
  },
  {
   "cell_type": "raw",
   "metadata": {
    "collapsed": false
   },
   "source": [
    "fc = {}\n",
    "fc[ 0.0] = (  0,   0,   0)\n",
    "fc[ 1.8] = (238, 130, 238) # violet\n",
    "fc[ 3.0] = (  0,   0, 255) # blue\n",
    "fc[ 8.0] = (  0, 255, 255) # aqua\n",
    "fc[10.0] = (  0, 128,   0) # green\n",
    "fc[15.0] = (  0, 255,   0) # lime\n",
    "fc[16.0] = (255, 255,   0) # yellow\n",
    "fc[19.0] = (241,  92,   7) # orange\n",
    "fc[21.0] = (139,  69,  19) # Saddle Brown\n",
    "fc[26.0] = (255,   0,   0) # red\n",
    "fc[30.0] = (255,   0,   0) # red\n",
    "cmap = to_cmap(fc,vmin=vmin,vmax=vmax)\n"
   ]
  },
  {
   "cell_type": "raw",
   "metadata": {
    "collapsed": false
   },
   "source": [
    "fc = {}\n",
    "fc[ 0.0] = (  0,   0,   0)\n",
    "fc[ 1.8] = cc255('indigo')\n",
    "fc[ 3.0] = cc255('mediumblue')\n",
    "fc[ 8.0] = cc255('aqua')\n",
    "fc[10.0] = cc255('forrestgreen')\n",
    "fc[15.0] = cc255('lime')\n",
    "fc[16.0] = cc255('yellow')\n",
    "fc[19.0] = cc255('orange')\n",
    "fc[21.0] = cc255('fuchsia')\n",
    "fc[23.0] = cc255('fuchsia')\n",
    "fc[28.0] = cc255('red')\n",
    "fc[30.0] = cc255('red')\n",
    "cmap = to_cmap(fc,vmin=vmin,vmax=vmax)\n"
   ]
  },
  {
   "cell_type": "raw",
   "metadata": {
    "collapsed": false
   },
   "source": [
    "#Best one so far...\n",
    "fc = {}\n",
    "fc[ 0.0] = (  0,   0,   0)\n",
    "fc[ 1.8] = cc255('violet')\n",
    "fc[ 3.0] = cc255('blue')\n",
    "fc[ 8.0] = cc255('aqua')\n",
    "fc[10.0] = cc255('green')\n",
    "fc[16.0] = cc255('yellow')\n",
    "fc[19.0] = cc255('orange')\n",
    "fc[28.0] = cc255('red')\n",
    "fc[30.0] = cc255('red')\n",
    "cmap = to_cmap(fc,vmin=vmin,vmax=vmax)\n"
   ]
  },
  {
   "cell_type": "code",
   "execution_count": 8,
   "metadata": {
    "collapsed": false
   },
   "outputs": [],
   "source": [
    "fc = {}\n",
    "fc[ 0.0] = (  0,   0,   0)\n",
    "fc[ 1.8] = cc255('violet')\n",
    "fc[ 3.0] = cc255('blue')\n",
    "fc[ 8.0] = cc255('aqua')\n",
    "fc[10.0] = cc255('green')\n",
    "fc[13.0] = cc255('green')\n",
    "fc[17.0] = cc255('yellow')\n",
    "fc[21.0] = cc255('orange')\n",
    "fc[28.0] = cc255('red')\n",
    "fc[30.0] = cc255('red')\n",
    "cmap = to_cmap(fc,vmin=vmin,vmax=vmax)"
   ]
  },
  {
   "cell_type": "code",
   "execution_count": 9,
   "metadata": {
    "collapsed": false
   },
   "outputs": [
    {
     "data": {
      "image/png": "[encoded data removed]",
      "text/plain": [
       "<matplotlib.figure.Figure at 0x7fe98c9e44d0>"
      ]
     },
     "metadata": {},
     "output_type": "display_data"
    }
   ],
   "source": [
    "x = np.arange(0, 10, 0.1)\n",
    "y = np.arange(0, 30, 0.1)\n",
    "X, Y = np.meshgrid(x, y)\n",
    "Z = Y\n",
    "\n",
    "# Make the figure:\n",
    "plt.figure(figsize=(10, 4))\n",
    "plt.subplot(111)\n",
    "plt.pcolormesh(X,Y,Z,cmap=cmap)\n",
    "plt.colorbar()\n",
    "plt.show()"
   ]
  },
  {
   "cell_type": "code",
   "execution_count": 10,
   "metadata": {
    "collapsed": false
   },
   "outputs": [
    {
     "ename": "NameError",
     "evalue": "name 'rbn_obj' is not defined",
     "output_type": "error",
     "traceback": [
      "\u001b[0;31m---------------------------------------------------------------------------\u001b[0m",
      "\u001b[0;31mNameError\u001b[0m                                 Traceback (most recent call last)",
      "\u001b[0;32m<ipython-input-10-fdd018ed28e2>\u001b[0m in \u001b[0;36m<module>\u001b[0;34m()\u001b[0m\n\u001b[1;32m      2\u001b[0m \u001b[0mfig\u001b[0m \u001b[0;34m=\u001b[0m \u001b[0mplt\u001b[0m\u001b[0;34m.\u001b[0m\u001b[0mfigure\u001b[0m\u001b[0;34m(\u001b[0m\u001b[0mfigsize\u001b[0m\u001b[0;34m=\u001b[0m\u001b[0;34m(\u001b[0m\u001b[0;36m18\u001b[0m\u001b[0;34m,\u001b[0m\u001b[0;36m8\u001b[0m\u001b[0;34m)\u001b[0m\u001b[0;34m)\u001b[0m\u001b[0;34m\u001b[0m\u001b[0m\n\u001b[1;32m      3\u001b[0m \u001b[0max\u001b[0m  \u001b[0;34m=\u001b[0m \u001b[0mfig\u001b[0m\u001b[0;34m.\u001b[0m\u001b[0madd_subplot\u001b[0m\u001b[0;34m(\u001b[0m\u001b[0;36m111\u001b[0m\u001b[0;34m)\u001b[0m\u001b[0;34m\u001b[0m\u001b[0m\n\u001b[0;32m----> 4\u001b[0;31m \u001b[0mrbn_map\u001b[0m \u001b[0;34m=\u001b[0m \u001b[0mrbn_lib\u001b[0m\u001b[0;34m.\u001b[0m\u001b[0mRbnMap\u001b[0m\u001b[0;34m(\u001b[0m\u001b[0mrbn_obj\u001b[0m\u001b[0;34m,\u001b[0m\u001b[0mband_data\u001b[0m\u001b[0;34m=\u001b[0m\u001b[0mband_data\u001b[0m\u001b[0;34m,\u001b[0m\u001b[0max\u001b[0m\u001b[0;34m=\u001b[0m\u001b[0max\u001b[0m\u001b[0;34m)\u001b[0m\u001b[0;34m\u001b[0m\u001b[0m\n\u001b[0m\u001b[1;32m      5\u001b[0m \u001b[0mrbn_map\u001b[0m\u001b[0;34m.\u001b[0m\u001b[0moverlay_grid\u001b[0m\u001b[0;34m(\u001b[0m\u001b[0mrbn_grid\u001b[0m\u001b[0;34m)\u001b[0m\u001b[0;34m\u001b[0m\u001b[0m\n\u001b[1;32m      6\u001b[0m \u001b[0mrbn_map\u001b[0m\u001b[0;34m.\u001b[0m\u001b[0moverlay_grid_data\u001b[0m\u001b[0;34m(\u001b[0m\u001b[0mrbn_grid\u001b[0m\u001b[0;34m,\u001b[0m\u001b[0mcmap\u001b[0m\u001b[0;34m=\u001b[0m\u001b[0mcmap\u001b[0m\u001b[0;34m,\u001b[0m\u001b[0mvmin\u001b[0m\u001b[0;34m=\u001b[0m\u001b[0mvmin\u001b[0m\u001b[0;34m,\u001b[0m\u001b[0mvmax\u001b[0m\u001b[0;34m=\u001b[0m\u001b[0mvmax\u001b[0m\u001b[0;34m)\u001b[0m\u001b[0;34m\u001b[0m\u001b[0m\n",
      "\u001b[0;31mNameError\u001b[0m: name 'rbn_obj' is not defined"
     ]
    },
    {
     "data": {
      "image/png": "[encoded data removed]",
      "text/plain": [
       "<matplotlib.figure.Figure at 0x7fe98efb4d90>"
      ]
     },
     "metadata": {},
     "output_type": "display_data"
    }
   ],
   "source": [
    "band_data = rbn_lib.BandData(cmap=cmap,vmin=vmin,vmax=vmax)\n",
    "fig = plt.figure(figsize=(18,8))\n",
    "ax  = fig.add_subplot(111)\n",
    "rbn_map = rbn_lib.RbnMap(rbn_obj,band_data=band_data,ax=ax)\n",
    "rbn_map.overlay_grid(rbn_grid)\n",
    "rbn_map.overlay_grid_data(rbn_grid,cmap=cmap,vmin=vmin,vmax=vmax)"
   ]
  },
  {
   "cell_type": "code",
   "execution_count": null,
   "metadata": {
    "collapsed": true
   },
   "outputs": [],
   "source": []
  },
  {
   "cell_type": "code",
   "execution_count": null,
   "metadata": {
    "collapsed": true
   },
   "outputs": [],
   "source": []
  }
 ],
 "metadata": {
  "kernelspec": {
   "display_name": "Python 2",
   "language": "python",
   "name": "python2"
  },
  "language_info": {
   "codemirror_mode": {
    "name": "ipython",
    "version": 2
   },
   "file_extension": ".py",
   "mimetype": "text/x-python",
   "name": "python",
   "nbconvert_exporter": "python",
   "pygments_lexer": "ipython2",
   "version": "2.7.12"
  }
 },
 "nbformat": 4,
 "nbformat_minor": 0
}
